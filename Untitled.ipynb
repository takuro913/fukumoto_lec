{
 "cells": [
  {
   "cell_type": "code",
   "execution_count": 3,
   "id": "7f0bf395-8b29-4edf-8dd6-f5c7db8fe129",
   "metadata": {},
   "outputs": [
    {
     "name": "stdout",
     "output_type": "stream",
     "text": [
      "[6.146264369941973, 3.1462643699419726, 3.0, 0.0, 2.9999999999999996, 0.0, 0.14626436994197256, 3.1462643699419726, 3.1462643699419726, 0.14626436994197256, 0.0, 3.0, 0.0, 2.9999999999999996, 3.1462643699419726, 6.146264369941973]\n",
      "出力数: 16\n"
     ]
    }
   ],
   "source": [
    "import math\n",
    "import itertools\n",
    "\n",
    "n = 4\n",
    "\n",
    "def gosa(bits):\n",
    "    A, B = 0, 0\n",
    "    for j in range(n):\n",
    "        if bits[j] == 1:\n",
    "            A += math.sqrt(n-j)\n",
    "        else:\n",
    "            B += math.sqrt(j+1)\n",
    "    return abs(A - B)\n",
    "\n",
    "# 2^n 通りの0,1組み合わせを作成\n",
    "binaries = list(itertools.product([0,1], repeat=n))\n",
    "\n",
    "gosanum = []\n",
    "for bits in binaries:\n",
    "    gosanum.append(gosa(bits))\n",
    "\n",
    "print(gosanum)\n",
    "print(\"出力数:\", len(gosanum))\n"
   ]
  },
  {
   "cell_type": "code",
   "execution_count": null,
   "id": "3bf6c67a-5723-47db-b443-6cb0ae4e1c08",
   "metadata": {},
   "outputs": [],
   "source": []
  }
 ],
 "metadata": {
  "kernelspec": {
   "display_name": "Python 3 (ipykernel)",
   "language": "python",
   "name": "python3"
  },
  "language_info": {
   "codemirror_mode": {
    "name": "ipython",
    "version": 3
   },
   "file_extension": ".py",
   "mimetype": "text/x-python",
   "name": "python",
   "nbconvert_exporter": "python",
   "pygments_lexer": "ipython3",
   "version": "3.12.9"
  }
 },
 "nbformat": 4,
 "nbformat_minor": 5
}
