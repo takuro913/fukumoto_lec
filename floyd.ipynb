{
 "cells": [
  {
   "cell_type": "code",
   "execution_count": 1,
   "id": "4efc2fa6-69c4-48d7-aeb8-174a06dbeb5d",
   "metadata": {},
   "outputs": [],
   "source": [
    "import numpy as np\n",
    "import copy\n",
    "from simpleai.search import SearchProblem\n",
    "from simpleai.search.local import genetic"
   ]
  },
  {
   "cell_type": "code",
   "execution_count": 2,
   "id": "0d0ebde2-3aa8-4256-9cab-8ff38928dc44",
   "metadata": {},
   "outputs": [],
   "source": [
    "NUMBERS = [1, 2, 3, 4, 5, 6, 7, 8, 9, 10,11,12,13,14,15,16,17,18,19,20,21,22,23,24,25,26,27,28,29,30,31,32,33,34,35,36,37,38,39,40,41,42,43,44,45,46,47,48,49,50]\n",
    "START   = [0, 0, 0, 0, 0, 0, 0, 0, 0, 0,0,0,0,0,0,0,0,0,0,0,0,0,0,0,0,0,0,0,0,0,0,0,0,0,0,0,0,0,0,0,0,0,0,0,0,0,0,0,0,0]\n",
    "\n",
    "# NUMBERS = []\n",
    "# for i in range(1,11):\n",
    "#   NUMBERS.append(i)\n",
    "# START=np.zeros(10,dtype=int)\n",
    "# NUMBERS\n",
    "# START"
   ]
  },
  {
   "cell_type": "code",
   "execution_count": 3,
   "id": "433583c7-67e7-4b13-a9fb-07c4164ae36e",
   "metadata": {},
   "outputs": [],
   "source": [
    "class FloydProblem(SearchProblem):\n",
    "\n",
    "    def value(self, state):\n",
    "        value0 = 0\n",
    "        value1 = 0\n",
    "\n",
    "        for n, s in zip(NUMBERS, state):\n",
    "            if s == 0:\n",
    "                value0 += np.sqrt(n)\n",
    "            else:\n",
    "                value1 += np.sqrt(n)\n",
    "    \n",
    "        value = -1 * np.abs(value0 - value1) # 負の値\n",
    "         # ここから\n",
    "        global max_state\n",
    "        global max_value\n",
    "    \n",
    "        if max_value < value:\n",
    "            max_state = state\n",
    "            max_value = value            \n",
    "            print(f\"max state: {max_state}({max_value:.3f})\")\n",
    "        # ここまで追加\n",
    "    \n",
    "        return value\n",
    "\n",
    "    def generate_random_state(self):\n",
    "        state = []\n",
    "    \n",
    "        for n in NUMBERS:\n",
    "            if np.random.rand() < 0.5:\n",
    "                state.append(0)\n",
    "            else:\n",
    "                state.append(1)        \n",
    "    \n",
    "        return state    \n",
    "\n",
    "    def crossover(self, state1, state2):\n",
    "        child = []\n",
    "    \n",
    "        index = np.random.randint(0, len(state1))\n",
    "    \n",
    "        for i in range(0, index):\n",
    "            child.append(state1[i])\n",
    "    \n",
    "        for i in range(index, len(state2)):\n",
    "            child.append(state2[i])                \n",
    "    \n",
    "        return child\n",
    "\n",
    "    def mutate(self, state):\n",
    "        mutated = copy.deepcopy(state)                                \n",
    "    \n",
    "        index = np.random.randint(0, len(mutated))\n",
    "    \n",
    "        if mutated[index] == 0:\n",
    "            mutated[index] = 1\n",
    "        else:\n",
    "            mutated[index] = 0                                     \n",
    "    \n",
    "        return mutated"
   ]
  },
  {
   "cell_type": "code",
   "execution_count": 4,
   "id": "45eed1b9-bc22-4713-bc2b-dd1eff57cebe",
   "metadata": {},
   "outputs": [],
   "source": [
    "# 評価が最も高い状態と評価値\n",
    "max_state = START\n",
    "max_value = 0"
   ]
  },
  {
   "cell_type": "code",
   "execution_count": 5,
   "id": "7de8be95-2e56-4809-803a-596e562fcc25",
   "metadata": {},
   "outputs": [
    {
     "name": "stdout",
     "output_type": "stream",
     "text": [
      "max state: [0, 0, 0, 0, 0, 0, 0, 0, 0, 0, 0, 0, 0, 0, 0, 0, 0, 0, 0, 0, 0, 0, 0, 0, 0, 0, 0, 0, 0, 0, 0, 0, 0, 0, 0, 0, 0, 0, 0, 0, 0, 0, 0, 0, 0, 0, 0, 0, 0, 0](-239.036)\n",
      "max state: [1, 1, 1, 0, 0, 1, 0, 1, 0, 0, 1, 0, 1, 1, 0, 1, 0, 1, 0, 0, 1, 1, 1, 1, 1, 0, 0, 0, 0, 1, 1, 1, 1, 1, 1, 0, 0, 0, 1, 0, 1, 1, 1, 1, 1, 1, 1, 0, 0, 1](-53.422)\n",
      "max state: [0, 0, 0, 1, 0, 1, 1, 1, 1, 1, 0, 0, 1, 0, 1, 0, 1, 1, 0, 1, 0, 0, 0, 0, 0, 1, 0, 0, 0, 1, 0, 1, 0, 1, 1, 0, 1, 1, 1, 0, 1, 1, 1, 0, 1, 0, 1, 1, 0, 0](-6.580)\n",
      "max state: [0, 0, 0, 1, 1, 0, 0, 1, 1, 1, 0, 0, 0, 0, 1, 0, 0, 0, 1, 0, 0, 1, 1, 0, 1, 1, 1, 0, 1, 0, 1, 1, 1, 0, 0, 1, 1, 1, 1, 0, 1, 0, 1, 0, 0, 0, 1, 0, 0, 1](-0.912)\n",
      "max state: [0, 0, 0, 1, 1, 0, 0, 1, 0, 0, 0, 1, 0, 0, 1, 0, 0, 1, 1, 1, 0, 0, 0, 0, 0, 0, 1, 1, 0, 1, 1, 1, 1, 1, 0, 0, 0, 0, 1, 1, 1, 0, 0, 1, 1, 1, 1, 0, 0, 1](-0.509)\n",
      "max state: [0, 1, 0, 0, 0, 0, 0, 0, 1, 0, 1, 0, 1, 1, 1, 0, 1, 0, 1, 0, 1, 0, 1, 0, 1, 1, 0, 1, 1, 1, 1, 0, 1, 0, 1, 1, 0, 1, 0, 0, 1, 0, 0, 1, 0, 0, 1, 1, 0, 0](-0.481)\n"
     ]
    }
   ],
   "source": [
    "problem = FloydProblem(initial_state=START)\n",
    "\n",
    "# 初期状態の評価\n",
    "max_state = START\n",
    "max_value = problem.value(max_state)\n",
    "print(f\"max state: {max_state}({max_value:.3f})\")\n",
    "\n",
    "result = genetic(problem, population_size=100, mutation_chance=0.5, iterations_limit=100)"
   ]
  },
  {
   "cell_type": "markdown",
   "id": "b73c9a04-da72-4c5e-9886-89ec0f075fcc",
   "metadata": {},
   "source": [
    "## nisinsu=[0,0,0];\n",
    "\n",
    "for i in range(2**n):#2**n:\n",
    "    nisinsu[i]=1\n",
    "nisinsu\n"
   ]
  },
  {
   "cell_type": "code",
   "execution_count": null,
   "id": "fbd694d8-dd56-4fee-a926-6f8d685689ff",
   "metadata": {},
   "outputs": [],
   "source": [
    "def all_binaries(n):\n",
    "    nisinsu=[]\n",
    "    \n",
    "    for i in range(2**n):# 2のn乗\n",
    "        bits=[]\n",
    "        num=i\n",
    "        for j in range(n):\n",
    "            bits.insert(0,num%2)\n",
    "            num //=2\n",
    "        nisinsu.append(bits)\n",
    "    return nisinsu\n",
    "\n",
    "binaries=all_binaries(50)\n",
    "for b in binaries:\n",
    "    print(b)"
   ]
  },
  {
   "cell_type": "code",
   "execution_count": null,
   "id": "920d3e60-bbc4-48fd-bfbb-62dd0b9a1f8c",
   "metadata": {},
   "outputs": [],
   "source": []
  }
 ],
 "metadata": {
  "kernelspec": {
   "display_name": "Python 3 (ipykernel)",
   "language": "python",
   "name": "python3"
  },
  "language_info": {
   "codemirror_mode": {
    "name": "ipython",
    "version": 3
   },
   "file_extension": ".py",
   "mimetype": "text/x-python",
   "name": "python",
   "nbconvert_exporter": "python",
   "pygments_lexer": "ipython3",
   "version": "3.12.9"
  }
 },
 "nbformat": 4,
 "nbformat_minor": 5
}
