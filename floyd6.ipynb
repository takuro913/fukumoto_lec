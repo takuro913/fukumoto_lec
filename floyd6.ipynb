{
 "cells": [
  {
   "cell_type": "code",
   "execution_count": 16,
   "id": "5d98e60e-9b63-4b9d-b6e6-bc63db1f2c03",
   "metadata": {},
   "outputs": [],
   "source": [
    "import numpy as np\n",
    "import math \n",
    "import time"
   ]
  },
  {
   "cell_type": "code",
   "execution_count": 17,
   "id": "050f3ed7-d502-4d1a-be20-1b19277272cf",
   "metadata": {},
   "outputs": [],
   "source": [
    "start = time.perf_counter() #計測開始\n",
    "n=25#"
   ]
  },
  {
   "cell_type": "code",
   "execution_count": null,
   "id": "ec25f068-2ae0-4ad3-bc04-31b22110b729",
   "metadata": {},
   "outputs": [],
   "source": [
    "def all_binaries(n):\n",
    "    nisinsu=[]\n",
    "    \n",
    "    for i in range(2**n//2):# 2のn乗\n",
    "        bits=[]\n",
    "        num=i\n",
    "        for j in range(n):\n",
    "            bits.insert(0,num%2)\n",
    "            num //=2\n",
    "        nisinsu.append(bits)\n",
    "    return nisinsu\n",
    "\n",
    "binaries=all_binaries(n)\n",
    "print(binaries)#複数リストを一つのリストに\n",
    "binaries[2][0]#2行目1列目の値（値は0から始まる）"
   ]
  },
  {
   "cell_type": "code",
   "execution_count": null,
   "id": "b5acb9eb-0165-49c9-a881-fbd31afa73a5",
   "metadata": {},
   "outputs": [
    {
     "name": "stdout",
     "output_type": "stream",
     "text": [
      "0.08980360755781724\n",
      "0.00\n"
     ]
    }
   ],
   "source": [
    "#平方根の和と2集合の差の絶対値を計算\n",
    "\n",
    "gosas_3150=100\n",
    "gosas=[]\n",
    "for i in range(2**n//2):\n",
    "    A,B=0,0  \n",
    "    for j in range (n):\n",
    "        if binaries[i][j]==1:\n",
    "            A+=math.sqrt(j+1)   \n",
    "        else:\n",
    "            B+=math.sqrt(j+1)    \n",
    "    gosas.append(math.fabs(A-B))\n",
    "    gosas_genzai=abs(A-B) \n",
    "    if gosas_3150>gosas_genzai:#計算した値（gosas_genzai）が前回の値よりも小さかったらgosas_3150に入れる！\n",
    "        gosas_3150=gosas_genzai\n",
    "\n",
    "\n",
    "print(gosas_3150)\n",
    "end = time.perf_counter() #計測終了\n",
    "print('{:.2f}'.format((end-start)/60))   "
   ]
  },
  {
   "cell_type": "code",
   "execution_count": null,
   "id": "bb5a24fd-67f7-49a8-9bcf-eeb57fce5ae1",
   "metadata": {},
   "outputs": [],
   "source": []
  },
  {
   "cell_type": "code",
   "execution_count": null,
   "id": "12f7b686-c2ce-4920-a7ca-6ba0b71a2659",
   "metadata": {},
   "outputs": [],
   "source": []
  }
 ],
 "metadata": {
  "kernelspec": {
   "display_name": "neuralODE",
   "language": "python",
   "name": "python3"
  },
  "language_info": {
   "codemirror_mode": {
    "name": "ipython",
    "version": 3
   },
   "file_extension": ".py",
   "mimetype": "text/x-python",
   "name": "python",
   "nbconvert_exporter": "python",
   "pygments_lexer": "ipython3",
   "version": "3.12.9"
  }
 },
 "nbformat": 4,
 "nbformat_minor": 5
}
