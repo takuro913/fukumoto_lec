{
 "cells": [
  {
   "cell_type": "code",
   "execution_count": 38,
   "id": "551aa821",
   "metadata": {},
   "outputs": [
    {
     "name": "stdout",
     "output_type": "stream",
     "text": [
      "0 ) [0, 1, 0, 1, 1, 0, 1, 0, 1, 1, 0] ,fitness: 3.1317180456522102\n",
      "1 ) [0, 1, 0, 1, 1, 0, 0, 0, 1, 1, 1] ,fitness: 4.473465004233828\n",
      "2 ) [1, 0, 1, 0, 0, 0, 1, 0, 1, 0, 1] ,fitness: 2.3960491585817643\n",
      "3 ) [0, 0, 1, 1, 1, 0, 0, 0, 0, 1, 1] ,fitness: 0.8908605053746079\n",
      "4 ) [0, 0, 0, 1, 0, 1, 0, 1, 0, 0, 1] ,fitness: 4.5958196607899655\n",
      "5 ) [1, 1, 0, 0, 0, 1, 1, 0, 1, 0, 0] ,fitness: 4.765993744117772\n",
      "6 ) [0, 0, 1, 0, 1, 1, 1, 0, 1, 0, 1] ,fitness: 4.975066281984171\n",
      "7 ) [1, 0, 1, 0, 1, 1, 1, 0, 0, 0, 1] ,fitness: 0.9750662819841693\n",
      "8 ) [0, 0, 1, 0, 1, 0, 0, 1, 1, 1, 1] ,fitness: 6.765993744117772\n",
      "9 ) [1, 0, 1, 1, 1, 0, 1, 1, 1, 1, 1] ,fitness: 18.05749636624696\n"
     ]
    }
   ],
   "source": [
    "import numpy as np\n",
    "import math \n",
    "import time\n",
    "import random\n",
    "\n",
    "\n",
    "# Generation0(初代親)生成\n",
    "n=11#個体のバイナリデータの桁数\n",
    "x=10#親の数（ランダムに選ぶ数）\n",
    "a=[]#親の識別番号\n",
    "nisinsu=[]\n",
    "nisinsu_random=[]\n",
    "def all_binaries(n):\n",
    "   \n",
    "    \n",
    "    for i in range(2**n):# 2のn乗\n",
    "        bits=[]\n",
    "        num=i\n",
    "        for j in range(n):\n",
    "            bits.insert(0,num%2)\n",
    "            num //=2\n",
    "        nisinsu.append(bits)\n",
    "    return nisinsu\n",
    "\n",
    "binaries=all_binaries(n)\n",
    "nisinsu_random=random.sample(nisinsu,x)#生成した全パターンの中からランダムにx個選んで（random.sample(nisinsu,x)の部分）nisinsu_randomに格納\n",
    "# print(binaries)#複数リストを一つのリストにして表示\n",
    "# print(nisinsu_random)\n",
    "# binaries[2][0]#2行目1列目の値（値は0から始まる）\n",
    "\n",
    "#評価関数\n",
    "for i in range(len(nisinsu_random)):\n",
    "    A,B=0,0  \n",
    "    for j in range (n):\n",
    "        if nisinsu_random[i][j]==1:\n",
    "            A+=math.sqrt(j+1)   \n",
    "        else:\n",
    "            B+=math.sqrt(j+1)    \n",
    "    gosas_genzai=abs(A-B) \n",
    "    # a.append(i)# 親の番号をaに格納\n",
    "    # a.append(nisinsu_random[i])#親のバイナリデータをaに格納\n",
    "    print(i,\")\",nisinsu_random[i],\",fitness:\",gosas_genzai)\n",
    "# print(a)\n",
    "    \n",
    "\n"
   ]
  },
  {
   "cell_type": "code",
   "execution_count": 40,
   "id": "b934c3a6",
   "metadata": {},
   "outputs": [
    {
     "name": "stdout",
     "output_type": "stream",
     "text": [
      "0 ) ( 7 , 1 ) , 交叉点位置： 10 , 子供： [1, 0, 1, 0, 1, 1, 1, 0, 0, 0, 1] , fitness 0.9750662819841693\n",
      "1 ) ( 1 , 8 ) , 交叉点位置： 10 , 子供： [0, 1, 0, 1, 1, 0, 0, 0, 1, 1, 1] , fitness 4.473465004233828\n",
      "2 ) ( 7 , 8 ) , 交叉点位置： 4 , 子供： [1, 0, 1, 0, 1, 0, 0, 1, 1, 1, 1] , fitness 8.765993744117772\n",
      "3 ) ( 8 , 0 ) , 交叉点位置： 10 , 子供： [0, 0, 1, 0, 1, 0, 0, 1, 1, 1, 0] , fitness 0.13274416340697215\n",
      "4 ) ( 5 , 3 ) , 交叉点位置： 9 , 子供： [1, 1, 0, 0, 0, 1, 1, 0, 1, 1, 1] , fitness 8.191811156929788\n",
      "5 ) ( 4 , 6 ) , 交叉点位置： 4 , 子供： [0, 0, 0, 1, 1, 1, 1, 0, 1, 0, 1] , fitness 5.510964666846416\n",
      "6 ) ( 3 , 5 ) , 交叉点位置： 1 , 子供： [0, 1, 0, 0, 0, 1, 1, 0, 1, 0, 0] , fitness 6.765993744117772\n",
      "7 ) ( 1 , 8 ) , 交叉点位置： 2 , 子供： [0, 1, 1, 0, 1, 0, 0, 1, 1, 1, 1] , fitness 9.594420868863963\n",
      "8 ) ( 7 , 6 ) , 交叉点位置： 5 , 子供： [1, 0, 1, 0, 1, 1, 1, 0, 1, 0, 1] , fitness 6.975066281984169\n",
      "9 ) ( 5 , 8 ) , 交叉点位置： 2 , 子供： [1, 1, 1, 0, 1, 0, 0, 1, 1, 1, 1] , fitness 11.594420868863963\n"
     ]
    }
   ],
   "source": [
    "# Generation0を元にGeneration1を生成\n",
    "for u in range(10):\n",
    "    #どの親を取ってくるか\n",
    "    #Generation0のリストからランダムに2つ親を取ってくる\n",
    "    parents = random.sample(nisinsu_random, 2)\n",
    "\n",
    "    #取ってきた親がGeneration0における何番の親なのか判定\n",
    "    index_all=[]\n",
    "    for p in parents:\n",
    "        index = nisinsu_random.index(p)  # 元のリストでの位置\n",
    "        # print(f\"親データ: {p}  →  位置（インデックス）: {index}\")\n",
    "        index_all.append(index)\n",
    "    # print(index_all)\n",
    "\n",
    "    s=random.randint(1, 10)#交叉するにあたり、どこで区切るかの数字\n",
    "   \n",
    "    parents_kousa=[]#交叉した結果のバイナリデータを格納するリスト\n",
    "    for g in range(2):\n",
    "        if g==0:# 交叉の前半部分\n",
    "            for h in range(s):\n",
    "                parents_kousa.append(parents[g][h])\n",
    "        elif g==1: # 交叉の後半部分\n",
    "            for h in range(s,11,1):\n",
    "                parents_kousa.append(parents[g][h])\n",
    "    # print(parents_kousa)\n",
    "\n",
    "    #評価関数\n",
    "\n",
    "    A,B=0,0  \n",
    "    for j in range (n):\n",
    "        if parents_kousa[j]==1:\n",
    "            A+=math.sqrt(j+1)   \n",
    "        else:\n",
    "            B+=math.sqrt(j+1)    \n",
    "    fitness_gen1=abs(A-B) \n",
    "\n",
    "    print(u,\")\",\"(\",index_all[0],\",\",index_all[1],\")\",\",\",\"交叉点位置：\",s,\",\",\"子供：\",parents_kousa,\",\",\"fitness\",fitness_gen1)\n",
    "    \n",
    "\n"
   ]
  }
 ],
 "metadata": {
  "kernelspec": {
   "display_name": "neuralODE",
   "language": "python",
   "name": "python3"
  },
  "language_info": {
   "codemirror_mode": {
    "name": "ipython",
    "version": 3
   },
   "file_extension": ".py",
   "mimetype": "text/x-python",
   "name": "python",
   "nbconvert_exporter": "python",
   "pygments_lexer": "ipython3",
   "version": "3.12.9"
  }
 },
 "nbformat": 4,
 "nbformat_minor": 5
}
