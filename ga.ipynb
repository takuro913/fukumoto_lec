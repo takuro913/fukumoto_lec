{
 "cells": [
  {
   "cell_type": "code",
   "execution_count": 1,
   "id": "551aa821",
   "metadata": {},
   "outputs": [
    {
     "name": "stdout",
     "output_type": "stream",
     "text": [
      "0 ) [0, 1, 1, 0, 1, 0, 0, 0, 1, 1, 1] ,fitness: 3.9375666193715837\n",
      "1 ) [1, 0, 1, 1, 1, 0, 0, 1, 1, 0, 0] ,fitness: 0.191811156929786\n",
      "2 ) [1, 0, 1, 0, 1, 0, 1, 1, 1, 0, 0] ,fitness: 1.0996914651993954\n",
      "3 ) [1, 0, 1, 0, 0, 0, 0, 0, 0, 1, 1] ,fitness: 7.362996460374186\n",
      "4 ) [0, 0, 1, 0, 0, 0, 0, 0, 1, 0, 0] ,fitness: 16.32080136142175\n",
      "5 ) [0, 1, 1, 1, 0, 1, 0, 0, 0, 0, 0] ,fitness: 10.593394751109201\n",
      "6 ) [0, 1, 1, 0, 0, 1, 1, 1, 1, 1, 1] ,fitness: 15.312767021559917\n",
      "7 ) [0, 0, 1, 1, 0, 0, 1, 1, 1, 1, 1] ,fitness: 11.585360411247374\n",
      "8 ) [0, 0, 0, 1, 0, 1, 0, 1, 0, 0, 1] ,fitness: 4.5958196607899655\n",
      "9 ) [1, 1, 1, 1, 1, 1, 1, 0, 0, 0, 1] ,fitness: 7.803493406730361\n"
     ]
    }
   ],
   "source": [
    "import numpy as np\n",
    "import math \n",
    "import time\n",
    "import random\n",
    "\n",
    "\n",
    "# Generation0(初代親)生成\n",
    "n=11#個体のバイナリデータの桁数\n",
    "x=10#親の数（ランダムに選ぶ数）\n",
    "a=[]#親の識別番号\n",
    "nisinsu=[]\n",
    "nisinsu_random=[]\n",
    "def all_binaries(n):\n",
    "   \n",
    "    \n",
    "    for i in range(2**n):# 2のn乗\n",
    "        bits=[]\n",
    "        num=i\n",
    "        for j in range(n):\n",
    "            bits.insert(0,num%2)\n",
    "            num //=2\n",
    "        nisinsu.append(bits)\n",
    "    return nisinsu\n",
    "\n",
    "binaries=all_binaries(n)\n",
    "nisinsu_random=random.sample(nisinsu,x)#生成した全パターンの中からランダムにx個選んで（random.sample(nisinsu,x)の部分）nisinsu_randomに格納\n",
    "# print(binaries)#複数リストを一つのリストにして表示\n",
    "# print(nisinsu_random)\n",
    "# binaries[2][0]#2行目1列目の値（値は0から始まる）\n",
    "\n",
    "#評価関数\n",
    "for i in range(len(nisinsu_random)):\n",
    "    A,B=0,0  \n",
    "    for j in range (n):\n",
    "        if nisinsu_random[i][j]==1:\n",
    "            A+=math.sqrt(j+1)   \n",
    "        else:\n",
    "            B+=math.sqrt(j+1)    \n",
    "    gosas_genzai=abs(A-B) \n",
    "    # a.append(i)# 親の番号をaに格納\n",
    "    # a.append(nisinsu_random[i])#親のバイナリデータをaに格納\n",
    "    print(i,\")\",nisinsu_random[i],\",fitness:\",gosas_genzai)\n",
    "# print(a)\n",
    "    \n",
    "\n"
   ]
  },
  {
   "cell_type": "code",
   "execution_count": 2,
   "id": "b934c3a6",
   "metadata": {},
   "outputs": [
    {
     "name": "stdout",
     "output_type": "stream",
     "text": [
      "0 ) ( 1 , 7 ) , 交叉点位置： 3 , 子供： [0, 0, 1, 1, 0, 0, 1, 1, 1, 1, 1] , fitness 11.585360411247374 （突然変異発生）\n",
      "1 ) ( 9 , 7 ) , 交叉点位置： 6 , 子供： [1, 1, 1, 1, 1, 1, 1, 1, 1, 1, 1] , fitness 25.7849029765595\n",
      "2 ) ( 1 , 7 ) , 交叉点位置： 6 , 子供： [1, 0, 1, 1, 1, 0, 1, 1, 1, 1, 1] , fitness 18.05749636624696\n",
      "3 ) ( 2 , 3 ) , 交叉点位置： 8 , 子供： [1, 0, 1, 0, 1, 1, 1, 1, 0, 1, 1] , fitness 12.956475851813305 （突然変異発生）\n",
      "4 ) ( 2 , 7 ) , 交叉点位置： 7 , 子供： [1, 0, 1, 0, 1, 0, 1, 1, 1, 1, 1] , fitness 14.057496366246957\n",
      "5 ) ( 2 , 5 ) , 交叉点位置： 5 , 子供： [1, 0, 1, 0, 1, 1, 0, 0, 0, 0, 0] , fitness 10.94968592085581\n",
      "6 ) ( 4 , 2 ) , 交叉点位置： 4 , 子供： [0, 0, 1, 0, 1, 0, 1, 1, 1, 0, 0] , fitness 0.9003085348006046\n",
      "7 ) ( 2 , 0 ) , 交叉点位置： 10 , 子供： [1, 0, 1, 0, 1, 0, 1, 1, 1, 0, 1] , fitness 7.732941045910195\n",
      "8 ) ( 5 , 0 ) , 交叉点位置： 1 , 子供： [0, 1, 1, 1, 1, 0, 0, 0, 1, 1, 1] , fitness 7.9375666193715855 （突然変異発生）\n",
      "9 ) ( 2 , 0 ) , 交叉点位置： 4 , 子供： [1, 0, 1, 0, 1, 0, 0, 0, 1, 1, 1] , fitness 3.109139494625392\n"
     ]
    }
   ],
   "source": [
    "# Generation0を元にGeneration1を生成\n",
    "for u in range(10):\n",
    "    #どの親を取ってくるか\n",
    "    #Generation0のリストからランダムに2つ親を取ってくる\n",
    "    parents = random.sample(nisinsu_random, 2)\n",
    "\n",
    "    #取ってきた親がGeneration0における何番の親なのか判定\n",
    "    index_all=[]\n",
    "    for p in parents:\n",
    "        index = nisinsu_random.index(p)  # 元のリストでの位置\n",
    "        # print(f\"親データ: {p}  →  位置（インデックス）: {index}\")\n",
    "        index_all.append(index)\n",
    "    # print(index_all)\n",
    "\n",
    "    s=random.randint(1, 10)#交叉するにあたり、どこで区切るかの数字\n",
    "   \n",
    "    parents_kousa=[]#交叉した結果のバイナリデータを格納するリスト\n",
    "    for g in range(2):\n",
    "        if g==0:# 交叉の前半部分\n",
    "            for h in range(s):\n",
    "                parents_kousa.append(parents[g][h])\n",
    "        elif g==1: # 交叉の後半部分\n",
    "            for h in range(s,n,1):\n",
    "                parents_kousa.append(parents[g][h])\n",
    "            \n",
    "    mutation_counter=0#突然変異カウンタ。閾値を下回った確率が出たとき（mutation_rateが5%を下回り、突然変異が起こる状態であるとき）このカウンタに1プラスして、突然変異が起こった判断基準にする\n",
    "    for j in range(n):# 突然変異処理（交叉してできた子供のバイナリデータ一桁一桁に0~1の小数をランダムに割り当て、その値が0.05（5％）より低かったら0,1を反転させる）\n",
    "        mutation_rate=random.random()\n",
    "        # print(mutation_rate)\n",
    "        if mutation_rate<=0.05:\n",
    "            mutation_counter+=1 \n",
    "            if parents_kousa[j]==0:\n",
    "                parents_kousa[j]=1\n",
    "            elif parents_kousa[j]==1:\n",
    "                parents_kousa[j]=0\n",
    "        # print(mutation_counter)\n",
    "           \n",
    "        \n",
    "        \n",
    "\n",
    "    # print(parents_kousa)\n",
    "\n",
    "    #評価関数\n",
    "\n",
    "    A,B=0,0  \n",
    "    for j in range (n):\n",
    "        if parents_kousa[j]==1:\n",
    "            A+=math.sqrt(j+1)   \n",
    "        else:\n",
    "            B+=math.sqrt(j+1)    \n",
    "    fitness_gen1=abs(A-B) \n",
    "\n",
    "    if mutation_counter>0:\n",
    "        print(u,\")\",\"(\",index_all[0],\",\",index_all[1],\")\",\",\",\"交叉点位置：\",s,\",\",\"子供：\",parents_kousa,\",\",\"fitness\",fitness_gen1,\"（突然変異発生）\")\n",
    "    else:\n",
    "        print(u,\")\",\"(\",index_all[0],\",\",index_all[1],\")\",\",\",\"交叉点位置：\",s,\",\",\"子供：\",parents_kousa,\",\",\"fitness\",fitness_gen1)\n",
    "\n",
    "\n",
    "         \n",
    "        \n",
    "\n"
   ]
  },
  {
   "cell_type": "code",
   "execution_count": null,
   "id": "41e87369",
   "metadata": {},
   "outputs": [
    {
     "name": "stdout",
     "output_type": "stream",
     "text": [
      "3\n"
     ]
    }
   ],
   "source": [
    "# One-Max関数\n",
    "# 与えられたバイナリデータの内、1の数を数える\n",
    "# 1の数が多いほど高評価\n",
    "def OneMax (binary_data):\n",
    "    one_count=0 # 1の数カウンタ\n",
    "    for o in range(8):#繰り返しの範囲を親、もしくは子供のbinaryデータの桁数に合わせる\n",
    "        if binary_data[o]==1:\n",
    "            one_count+=1\n",
    "    print(one_count)\n",
    "\n",
    "binary_data=[0,1,1,1,0,0,0,0]\n",
    "OneMax(binary_data)\n"
   ]
  }
 ],
 "metadata": {
  "kernelspec": {
   "display_name": "node",
   "language": "python",
   "name": "python3"
  },
  "language_info": {
   "codemirror_mode": {
    "name": "ipython",
    "version": 3
   },
   "file_extension": ".py",
   "mimetype": "text/x-python",
   "name": "python",
   "nbconvert_exporter": "python",
   "pygments_lexer": "ipython3",
   "version": "3.8.19"
  }
 },
 "nbformat": 4,
 "nbformat_minor": 5
}
