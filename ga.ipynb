{
 "cells": [
  {
   "cell_type": "code",
   "execution_count": 36,
   "id": "551aa821",
   "metadata": {},
   "outputs": [
    {
     "name": "stdout",
     "output_type": "stream",
     "text": [
      "0 ) [1, 1, 1, 0, 1, 1, 1, 0, 0, 1, 0] ,fitness: 3.4947991463563195\n",
      "1 ) [1, 1, 1, 1, 1, 1, 0, 1, 0, 1, 1] ,fitness: 14.493400354430317\n",
      "2 ) [1, 1, 1, 0, 0, 0, 0, 1, 0, 1, 0] ,fitness: 5.510964666846416\n",
      "3 ) [1, 1, 1, 0, 0, 1, 1, 0, 1, 1, 0] ,fitness: 5.022663191356742\n",
      "4 ) [1, 1, 1, 1, 0, 0, 0, 0, 1, 0, 1] ,fitness: 0.8591246559647558\n",
      "5 ) [1, 0, 1, 1, 1, 0, 0, 0, 1, 0, 1] ,fitness: 0.7845841742886321\n",
      "6 ) [1, 1, 1, 1, 1, 1, 1, 0, 0, 1, 1] ,fitness: 14.12804872706712\n",
      "7 ) [1, 0, 1, 1, 0, 0, 0, 1, 1, 1, 0] ,fitness: 1.6606082084073925\n",
      "8 ) [0, 0, 0, 1, 1, 1, 1, 1, 0, 0, 1] ,fitness: 5.1678189163387955\n",
      "9 ) [1, 1, 1, 1, 1, 0, 1, 1, 0, 0, 1] ,fitness: 8.561368170656387\n"
     ]
    }
   ],
   "source": [
    "import numpy as np\n",
    "import math \n",
    "import time\n",
    "import random\n",
    "\n",
    "n=11#個体のバイナリデータの桁数\n",
    "x=10#親の数（ランダムに選ぶ数）\n",
    "a=[]#親の識別番号\n",
    "nisinsu=[]\n",
    "nisinsu_random=[]\n",
    "def all_binaries(n):\n",
    "   \n",
    "    \n",
    "    for i in range(2**n):# 2のn乗\n",
    "        bits=[]\n",
    "        num=i\n",
    "        for j in range(n):\n",
    "            bits.insert(0,num%2)\n",
    "            num //=2\n",
    "        nisinsu.append(bits)\n",
    "    return nisinsu\n",
    "\n",
    "binaries=all_binaries(n)\n",
    "nisinsu_random=random.sample(nisinsu,x)#生成した全パターンの中からランダムにx個選んで（random.sample(nisinsu,x)の部分）nisinsu_randomに格納\n",
    "# print(binaries)#複数リストを一つのリストにして表示\n",
    "# print(nisinsu_random)\n",
    "# binaries[2][0]#2行目1列目の値（値は0から始まる）\n",
    "\n",
    "#評価関数\n",
    "for i in range(len(nisinsu_random)):\n",
    "    A,B=0,0  \n",
    "    for j in range (n):\n",
    "        if nisinsu_random[i][j]==1:\n",
    "            A+=math.sqrt(j+1)   \n",
    "        else:\n",
    "            B+=math.sqrt(j+1)    \n",
    "    gosas_genzai=abs(A-B) \n",
    "    # a.append(i)# 親の番号をaに格納\n",
    "    # a.append(nisinsu_random[i])#親のバイナリデータをaに格納\n",
    "    print(i,\")\",nisinsu_random[i],\",fitness:\",gosas_genzai)\n",
    "# print(a)\n",
    "    \n",
    "\n"
   ]
  },
  {
   "cell_type": "code",
   "execution_count": 39,
   "id": "b934c3a6",
   "metadata": {},
   "outputs": [
    {
     "name": "stdout",
     "output_type": "stream",
     "text": [
      "親データ: [1, 1, 1, 0, 0, 1, 1, 0, 1, 1, 0]  →  位置（インデックス）: 3\n",
      "親データ: [1, 1, 1, 0, 1, 1, 1, 0, 0, 1, 0]  →  位置（インデックス）: 0\n"
     ]
    }
   ],
   "source": [
    "# Generation0を元にGeneration1を生成\n",
    "\n",
    "#どの親を取ってくるか\n",
    "#Generation0のリストからランダムに2つ親を取ってくる\n",
    "\n",
    "parents = random.sample(nisinsu_random, 2)\n",
    "\n",
    "#取ってきた親がGeneration0における何番の親なのか\n",
    "for p in parents:\n",
    "    index = nisinsu_random.index(p)  # 元のリストでの位置\n",
    "    print(f\"親データ: {p}  →  位置（インデックス）: {index}\")\n",
    "\n",
    "\n",
    "#どこで区切るか\n"
   ]
  }
 ],
 "metadata": {
  "kernelspec": {
   "display_name": "node",
   "language": "python",
   "name": "python3"
  },
  "language_info": {
   "codemirror_mode": {
    "name": "ipython",
    "version": 3
   },
   "file_extension": ".py",
   "mimetype": "text/x-python",
   "name": "python",
   "nbconvert_exporter": "python",
   "pygments_lexer": "ipython3",
   "version": "3.8.19"
  }
 },
 "nbformat": 4,
 "nbformat_minor": 5
}
