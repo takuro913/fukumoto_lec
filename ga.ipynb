{
 "cells": [
  {
   "cell_type": "code",
   "execution_count": null,
   "id": "551aa821",
   "metadata": {},
   "outputs": [
    {
     "name": "stdout",
     "output_type": "stream",
     "text": [
      "0 ) [0, 0, 0, 1, 0, 0, 1, 0, 1, 0, 1] ,fitness: 3.8601507737195178\n",
      "1 ) [1, 1, 1, 1, 0, 1, 0, 1, 0, 0, 0] ,fitness: 2.93654050161682\n",
      "2 ) [0, 0, 0, 1, 0, 1, 1, 1, 1, 0, 0] ,fitness: 0.0624333806284163\n",
      "3 ) [0, 1, 0, 0, 0, 0, 1, 0, 1, 1, 1] ,fitness: 1.292831671363432\n",
      "4 ) [0, 1, 1, 0, 1, 1, 0, 1, 0, 1, 1] ,fitness: 8.493400354430321\n",
      "5 ) [0, 0, 1, 0, 0, 0, 0, 1, 1, 1, 0] ,fitness: 4.3393917915926075\n",
      "6 ) [0, 0, 1, 0, 0, 0, 0, 1, 0, 1, 0] ,fitness: 10.33939179159261\n",
      "7 ) [0, 1, 0, 0, 0, 0, 1, 1, 0, 1, 0] ,fitness: 5.683563659854988\n",
      "8 ) [1, 1, 0, 1, 0, 1, 0, 1, 1, 1, 0] ,fitness: 5.923913203582185\n",
      "9 ) [0, 0, 0, 0, 0, 0, 0, 0, 0, 0, 1] ,fitness: 19.151653395848697\n"
     ]
    }
   ],
   "source": [
    "import numpy as np\n",
    "import math \n",
    "import time\n",
    "import random\n",
    "\n",
    "n=11#個体のバイナリデータの桁数\n",
    "x=10#親の数（ランダムに選ぶ数）\n",
    "nisinsu=[]\n",
    "nisinsu_random=[]\n",
    "def all_binaries(n):\n",
    "   \n",
    "    \n",
    "    for i in range(2**n):# 2のn乗\n",
    "        bits=[]\n",
    "        num=i\n",
    "        for j in range(n):\n",
    "            bits.insert(0,num%2)\n",
    "            num //=2\n",
    "        nisinsu.append(bits)\n",
    "    return nisinsu\n",
    "\n",
    "binaries=all_binaries(n)\n",
    "nisinsu_random=random.sample(nisinsu,x)#生成した全パターンの中からランダムにx個選んで（random.sample(nisinsu,x)の部分）nisinsu_randomに格納\n",
    "# print(binaries)#複数リストを一つのリストにして表示\n",
    "# print(nisinsu_random)\n",
    "# binaries[2][0]#2行目1列目の値（値は0から始まる）\n",
    "\n",
    "#評価関数\n",
    "for i in range(len(nisinsu_random)):\n",
    "    A,B=0,0  \n",
    "    for j in range (n):\n",
    "        if nisinsu_random[i][j]==1:\n",
    "            A+=math.sqrt(j+1)   \n",
    "        else:\n",
    "            B+=math.sqrt(j+1)    \n",
    "    gosas_genzai=abs(A-B) \n",
    "    print(i,\")\",nisinsu_random[i],\",fitness:\",gosas_genzai)\n",
    "\n"
   ]
  }
 ],
 "metadata": {
  "kernelspec": {
   "display_name": "neuralODE",
   "language": "python",
   "name": "python3"
  },
  "language_info": {
   "codemirror_mode": {
    "name": "ipython",
    "version": 3
   },
   "file_extension": ".py",
   "mimetype": "text/x-python",
   "name": "python",
   "nbconvert_exporter": "python",
   "pygments_lexer": "ipython3",
   "version": "3.12.9"
  }
 },
 "nbformat": 4,
 "nbformat_minor": 5
}
